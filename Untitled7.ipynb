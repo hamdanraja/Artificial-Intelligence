{
 "cells": [
  {
   "cell_type": "code",
   "execution_count": 4,
   "id": "cb7f420c",
   "metadata": {},
   "outputs": [
    {
     "name": "stdout",
     "output_type": "stream",
     "text": [
      "Name:hamdan,age:23\n",
      "Name:hamdan,Age:23\n"
     ]
    }
   ],
   "source": [
    "name='hamdan'\n",
    "age=23\n",
    "print(\"Name:{},age:{}\".format(name,age))#using formating\n",
    "#using f string\n",
    "print(f\"Name:{name},Age:{age}\")"
   ]
  },
  {
   "cell_type": "code",
   "execution_count": 5,
   "id": "c8cb8c36",
   "metadata": {},
   "outputs": [
    {
     "name": "stdout",
     "output_type": "stream",
     "text": [
      "hello world 12344\n",
      "hello world$1234\n",
      "hamdan 23\n",
      "hamdan|23\n"
     ]
    }
   ],
   "source": [
    "name='hamdan'\n",
    "age=23\n",
    "print(\"hello world\",12344)\n",
    "print(\"hello world\",1234,sep='$')\n",
    "print(name,age)\n",
    "print(name,age,sep=\"|\")"
   ]
  },
  {
   "cell_type": "code",
   "execution_count": 7,
   "id": "8cf8c724",
   "metadata": {},
   "outputs": [
    {
     "name": "stdout",
     "output_type": "stream",
     "text": [
      "<class 'str'>\n",
      "<class 'int'>\n",
      "<class 'float'>\n",
      "<class 'list'>\n",
      "<class 'set'>\n"
     ]
    }
   ],
   "source": [
    "a=\"hamdan\"\n",
    "b=1234\n",
    "c=12.3\n",
    "d=[a,b,c]\n",
    "e={a,b,c}\n",
    "print(type(a))\n",
    "print(type(b))\n",
    "print(type(c))\n",
    "print(type(d))\n",
    "print(type(e))"
   ]
  },
  {
   "cell_type": "code",
   "execution_count": 8,
   "id": "8afe2a9c",
   "metadata": {},
   "outputs": [
    {
     "name": "stdout",
     "output_type": "stream",
     "text": [
      "-2\n"
     ]
    }
   ],
   "source": [
    "#seq statement\n",
    "a=1\n",
    "b=3\n",
    "c=a-b\n",
    "print(c)"
   ]
  },
  {
   "cell_type": "code",
   "execution_count": 15,
   "id": "eb20d69b",
   "metadata": {},
   "outputs": [
    {
     "name": "stdout",
     "output_type": "stream",
     "text": [
      "No\n"
     ]
    }
   ],
   "source": [
    "x=5\n",
    "y=0\n",
    "if x < y:\n",
    "    print('yes') \n",
    "else:\n",
    "        print('No')"
   ]
  },
  {
   "cell_type": "code",
   "execution_count": 16,
   "id": "4aba0a63",
   "metadata": {},
   "outputs": [
    {
     "name": "stdout",
     "output_type": "stream",
     "text": [
      "yes\n"
     ]
    }
   ],
   "source": [
    "x=5\n",
    "y=0\n",
    "if x or y:\n",
    "    print('yes') "
   ]
  },
  {
   "cell_type": "code",
   "execution_count": 18,
   "id": "81d85a5d",
   "metadata": {},
   "outputs": [
    {
     "name": "stdout",
     "output_type": "stream",
     "text": [
      "c value is big\n"
     ]
    }
   ],
   "source": [
    "a=20\n",
    "b=21\n",
    "c=23\n",
    "if a<b:\n",
    "    if a>c:\n",
    "        print(\"a value is big\")\n",
    "    else:\n",
    "            print(\"c value is big\")"
   ]
  },
  {
   "cell_type": "code",
   "execution_count": 20,
   "id": "1d7d6bc0",
   "metadata": {},
   "outputs": [
    {
     "name": "stdout",
     "output_type": "stream",
     "text": [
      "Lets go to  beach\n"
     ]
    }
   ],
   "source": [
    "raining=False\n",
    "print(\"Lets go to \",'beach'if not raining else'library')"
   ]
  },
  {
   "cell_type": "code",
   "execution_count": 23,
   "id": "ee4fde4f",
   "metadata": {},
   "outputs": [
    {
     "data": {
      "text/plain": [
       "'adult'"
      ]
     },
     "execution_count": 23,
     "metadata": {},
     "output_type": "execute_result"
    }
   ],
   "source": [
    "age=22\n",
    "s='minor'if age<21 else 'adult'\n",
    "s"
   ]
  },
  {
   "cell_type": "code",
   "execution_count": 25,
   "id": "4e755502",
   "metadata": {},
   "outputs": [
    {
     "data": {
      "text/plain": [
       "32"
      ]
     },
     "execution_count": 25,
     "metadata": {},
     "output_type": "execute_result"
    }
   ],
   "source": [
    "x=y=z=30\n",
    "a=1+x if x>y else y+2\n",
    "a"
   ]
  },
  {
   "cell_type": "code",
   "execution_count": 27,
   "id": "95070519",
   "metadata": {},
   "outputs": [
    {
     "name": "stdout",
     "output_type": "stream",
     "text": [
      "29\n",
      "28\n",
      "27\n",
      "26\n",
      "25\n",
      "24\n",
      "23\n",
      "22\n",
      "21\n",
      "20\n",
      "19\n",
      "18\n",
      "17\n",
      "16\n",
      "15\n",
      "14\n",
      "13\n",
      "12\n",
      "11\n",
      "10\n",
      "9\n",
      "8\n",
      "7\n",
      "6\n",
      "5\n",
      "4\n",
      "3\n",
      "2\n",
      "1\n",
      "0\n"
     ]
    }
   ],
   "source": [
    "a=30\n",
    "while a>0: a-=1;print(a)\n",
    "    "
   ]
  },
  {
   "cell_type": "code",
   "execution_count": 42,
   "id": "792b1acc",
   "metadata": {},
   "outputs": [
    {
     "name": "stdout",
     "output_type": "stream",
     "text": [
      "2\n",
      "4\n",
      "6\n",
      "8\n",
      "10\n",
      "12\n",
      "14\n",
      "16\n",
      "18\n",
      "20\n",
      "22\n",
      "24\n",
      "26\n",
      "28\n"
     ]
    }
   ],
   "source": [
    "for i in range(2,30,2):\n",
    " print(i)"
   ]
  },
  {
   "cell_type": "code",
   "execution_count": 37,
   "id": "4045de58",
   "metadata": {},
   "outputs": [
    {
     "name": "stdout",
     "output_type": "stream",
     "text": [
      "enter your age20\n",
      "enter your namehamdan\n",
      "hamdan\n",
      "20\n",
      "2004\n"
     ]
    }
   ],
   "source": [
    "age=int(input(\"enter your age\"))\n",
    "name=input(\"enter your name\")\n",
    "currentage=2024-age\n",
    "print(name)\n",
    "print(age)\n",
    "print(currentage)"
   ]
  },
  {
   "cell_type": "code",
   "execution_count": 39,
   "id": "6d924bdd",
   "metadata": {},
   "outputs": [
    {
     "name": "stdout",
     "output_type": "stream",
     "text": [
      "enter your height6.1\n",
      "15.494\n"
     ]
    }
   ],
   "source": [
    "h=float(input(\"enter your height\"))\n",
    "centimeters=h*2.54\n",
    "print(centimeters)"
   ]
  },
  {
   "cell_type": "code",
   "execution_count": 59,
   "id": "88b4f722",
   "metadata": {},
   "outputs": [
    {
     "name": "stdout",
     "output_type": "stream",
     "text": [
      "[3, 4, 5, 6, 7]\n"
     ]
    }
   ],
   "source": [
    "list=[2,3,4,5,6,7]\n",
    "print(list[-5:])"
   ]
  },
  {
   "cell_type": "code",
   "execution_count": 60,
   "id": "54325bf5",
   "metadata": {},
   "outputs": [
    {
     "name": "stdout",
     "output_type": "stream",
     "text": [
      "present in list\n"
     ]
    }
   ],
   "source": [
    "list=[\"appLe\",\"banana\",\"cherry\"]\n",
    "if \"banana\" in list:\n",
    "    print(\"present in list\")"
   ]
  },
  {
   "cell_type": "code",
   "execution_count": 61,
   "id": "283a9baa",
   "metadata": {},
   "outputs": [
    {
     "name": "stdout",
     "output_type": "stream",
     "text": [
      "['appLe', 'banana', 'cherry']\n",
      "['appLe', 'blackberry', 'cherry']\n"
     ]
    }
   ],
   "source": [
    "list=[\"appLe\",\"banana\",\"cherry\"]\n",
    "print(list)\n",
    "list[1]=\"blackberry\"\n",
    "print(list)"
   ]
  },
  {
   "cell_type": "code",
   "execution_count": 63,
   "id": "409fb56f",
   "metadata": {},
   "outputs": [
    {
     "name": "stdout",
     "output_type": "stream",
     "text": [
      "['appLe', 'banana', 'cherry']\n",
      "['appLe', 'cherry', 'orange', 'banana', 'cherry']\n"
     ]
    }
   ],
   "source": [
    "list=[\"appLe\",\"banana\",\"cherry\"]\n",
    "print(list)\n",
    "list[1:-3]=[\"cherry\",\"orange\"]\n",
    "print(list)"
   ]
  },
  {
   "cell_type": "code",
   "execution_count": 65,
   "id": "d6c4c6c4",
   "metadata": {},
   "outputs": [
    {
     "name": "stdout",
     "output_type": "stream",
     "text": [
      "[1, 9, 25, 49, 81]\n"
     ]
    }
   ],
   "source": [
    "square=[x*x for x in range(1,11,2)]\n",
    "print(square)"
   ]
  },
  {
   "cell_type": "code",
   "execution_count": 66,
   "id": "94e00e17",
   "metadata": {},
   "outputs": [
    {
     "name": "stdout",
     "output_type": "stream",
     "text": [
      "[2, 4, 6, 8, 10]\n"
     ]
    }
   ],
   "source": [
    "even=[x for x in range(1,11) if x%2==0]\n",
    "print(even)"
   ]
  },
  {
   "cell_type": "code",
   "execution_count": 68,
   "id": "30faebb0",
   "metadata": {},
   "outputs": [
    {
     "name": "stdout",
     "output_type": "stream",
     "text": [
      "1\n",
      "2\n",
      "3\n",
      "4\n",
      "5\n"
     ]
    }
   ],
   "source": [
    "def func(list):\n",
    "    for i in list:\n",
    "        print(i)\n",
    "list=[1,2,3,4,5]\n",
    "func(list)"
   ]
  },
  {
   "cell_type": "code",
   "execution_count": 73,
   "id": "329d2dc0",
   "metadata": {},
   "outputs": [
    {
     "name": "stdout",
     "output_type": "stream",
     "text": [
      "enter number0\n",
      "zero\n"
     ]
    }
   ],
   "source": [
    "a=int(input(\"enter number\"))\n",
    "if a>0:\n",
    "    print(\"positive\")\n",
    "elif a<0:\n",
    "        print(\"negative\")\n",
    "else:\n",
    "    print(\"zero\")\n",
    "        "
   ]
  },
  {
   "cell_type": "code",
   "execution_count": 85,
   "id": "584e8ce1",
   "metadata": {},
   "outputs": [
    {
     "name": "stdout",
     "output_type": "stream",
     "text": [
      "enter number3\n",
      "factorial: 3\n",
      "factorial: 6\n"
     ]
    }
   ],
   "source": [
    "n=int(input(\"enter number\"))\n",
    "fact=1\n",
    "if n== 0:\n",
    "    print(\"iNvalid\")\n",
    "elif n==1:\n",
    "    print('1')\n",
    "else:\n",
    "    while n>1:\n",
    "        fact=fact* n\n",
    "        n=n-1\n",
    "        print(\"factorial:\" ,fact)\n",
    "    "
   ]
  },
  {
   "cell_type": "code",
   "execution_count": 92,
   "id": "6d243f68",
   "metadata": {},
   "outputs": [
    {
     "name": "stdout",
     "output_type": "stream",
     "text": [
      "enter number5\n",
      "5 is an prime number\n",
      "5 is an prime number\n",
      "5 is an prime number\n"
     ]
    }
   ],
   "source": [
    "num=int(input(\"enter number\"))\n",
    "flag=False\n",
    "if num==1:\n",
    "    print(\"it is not a prime number\")\n",
    "elif num > 1:\n",
    "    for i in range(2,num):\n",
    "        if(num % i)== 0:\n",
    "            flag=True\n",
    "            break\n",
    "        if flag:\n",
    "            print(num,\"not a prime number\")\n",
    "        else:\n",
    "                print(num,\"is an prime number\")"
   ]
  },
  {
   "cell_type": "code",
   "execution_count": 98,
   "id": "8c47b685",
   "metadata": {},
   "outputs": [
    {
     "name": "stdout",
     "output_type": "stream",
     "text": [
      "enter number3\n",
      "1\n",
      "3\n",
      "6\n"
     ]
    }
   ],
   "source": [
    "i=int(input(\"enter number\"))\n",
    "sum=0\n",
    "for i in range(1,i + 1):\n",
    "    sum=sum+i\n",
    "    print(sum) "
   ]
  },
  {
   "cell_type": "code",
   "execution_count": 99,
   "id": "6c114a31",
   "metadata": {},
   "outputs": [
    {
     "name": "stdout",
     "output_type": "stream",
     "text": [
      "year2024\n",
      "2024 leap year\n"
     ]
    }
   ],
   "source": [
    "n=int(input('year'))\n",
    "if n%4==0:\n",
    "    print(n,'leap year')\n",
    "else:\n",
    "    print(n,'not a leap year')"
   ]
  },
  {
   "cell_type": "code",
   "execution_count": 103,
   "id": "9b127053",
   "metadata": {},
   "outputs": [
    {
     "name": "stdout",
     "output_type": "stream",
     "text": [
      "number3\n",
      "3\n",
      "6\n",
      "9\n",
      "12\n",
      "15\n",
      "18\n",
      "21\n",
      "24\n",
      "27\n",
      "30\n"
     ]
    }
   ],
   "source": [
    "a=int(input('number'))\n",
    "for i in range(1,11):\n",
    "    print(a*i)"
   ]
  },
  {
   "cell_type": "code",
   "execution_count": null,
   "id": "42210e5b",
   "metadata": {},
   "outputs": [],
   "source": [
    "while True:\n",
    "    print(\"\\nOptions:\")\n",
    "    print(\"1. Addition\")\n",
    "    print(\"2. Subtraction\")\n",
    "    print(\"3. Multiplication\")\n",
    "    print(\"4. Division\")\n",
    "    print(\"5. Exit\")\n",
    "choice = input(\"Enter your choice (1/2/3/4/5): \")\n",
    "if choice == '5':\n",
    "    print(\"Exiting the calculator.\")\n",
    "    break\n",
    "elif choice in ('1','2','3','4'):\n",
    "    num1=int(input(\"enter num1\"))\n",
    "    num2=int(input(\"enter num2\"))\n",
    "    if choice=='1':\n",
    "        print(\"addition\",num1+num2)\n",
    "    elif choice=='2':\n",
    "        print(\"subtraction\",num1-num2)\n",
    "    elif choice=='3':\n",
    "        print(\"multiplication\",num1*num2)\n",
    "    elif choice=='4':\n",
    "        if num==0:\n",
    "            print(\"invalid\")\n",
    "        else:\n",
    "            print(\"division\",num2/num1)\n",
    "else:\n",
    "     print(\"Invalid input! Please enter a valid option.\")\n",
    "    "
   ]
  },
  {
   "cell_type": "code",
   "execution_count": null,
   "id": "c01ce08f",
   "metadata": {},
   "outputs": [],
   "source": [
    "print(\"Welcome to Simple Calculator!\")\n",
    "\n",
    "while True:\n",
    "    print(\"\\nOptions:\")\n",
    "    print(\"1. Addition\")\n",
    "    print(\"2. Subtraction\")\n",
    "    print(\"3. Multiplication\")\n",
    "    print(\"4. Division\")\n",
    "    print(\"5. Exit\")\n",
    "\n",
    "    choice = input(\"Enter your choice (1/2/3/4/5): \")\n",
    "\n",
    "    if choice == '5':\n",
    "        print(\"Exiting the calculator.\")\n",
    "        break\n",
    "    elif choice in ('1', '2', '3', '4'):\n",
    "        num1 = float(input(\"Enter first number: \"))\n",
    "        num2 = float(input(\"Enter second number: \"))\n",
    "\n",
    "        if choice == '1':\n",
    "            print(\"Result:\", num1 + num2)\n",
    "        elif choice == '2':\n",
    "            print(\"Result:\", num1 - num2)\n",
    "        elif choice == '3':\n",
    "            print(\"Result:\", num1 * num2)\n",
    "        elif choice == '4':\n",
    "            if num2 == 0:\n",
    "                print(\"Error! Division by zero is not allowed.\")\n",
    "            else:\n",
    "                print(\"Result:\", num1 / num2)\n",
    "    else:\n",
    "        print(\"Invalid input! Please enter a valid option.\")"
   ]
  },
  {
   "cell_type": "code",
   "execution_count": null,
   "id": "24e83db6",
   "metadata": {},
   "outputs": [],
   "source": []
  }
 ],
 "metadata": {
  "kernelspec": {
   "display_name": "Python 3 (ipykernel)",
   "language": "python",
   "name": "python3"
  },
  "language_info": {
   "codemirror_mode": {
    "name": "ipython",
    "version": 3
   },
   "file_extension": ".py",
   "mimetype": "text/x-python",
   "name": "python",
   "nbconvert_exporter": "python",
   "pygments_lexer": "ipython3",
   "version": "3.11.5"
  }
 },
 "nbformat": 4,
 "nbformat_minor": 5
}
